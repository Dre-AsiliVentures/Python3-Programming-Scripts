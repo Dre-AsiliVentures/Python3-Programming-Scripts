{
 "cells": [
  {
   "cell_type": "markdown",
   "id": "24489133",
   "metadata": {},
   "source": [
    "<h1> FUNCTIONAL PROGRAMMING </h1>\n",
    "\n",
    "<h2> >> Lambdas </h2>\n",
    "<h2> >> Map </h2>\n",
    "<h2> >> Filter </h2>"
   ]
  },
  {
   "cell_type": "markdown",
   "id": "a39458ea",
   "metadata": {},
   "source": [
    "## Lambdas"
   ]
  },
  {
   "cell_type": "markdown",
   "id": "6b9ee480",
   "metadata": {},
   "source": [
    "#### Task 1: Defining Lambdas"
   ]
  },
  {
   "cell_type": "code",
   "execution_count": 1,
   "id": "4277f52e",
   "metadata": {},
   "outputs": [
    {
     "name": "stdout",
     "output_type": "stream",
     "text": [
      "14\n"
     ]
    }
   ],
   "source": [
    "print((lambda x:x*2)(7))"
   ]
  },
  {
   "cell_type": "markdown",
   "id": "58f73afc",
   "metadata": {},
   "source": [
    "#### Task 2: Using Lambdas as Variables"
   ]
  },
  {
   "cell_type": "code",
   "execution_count": 2,
   "id": "4ec3b8af",
   "metadata": {},
   "outputs": [
    {
     "name": "stdout",
     "output_type": "stream",
     "text": [
      "14\n"
     ]
    }
   ],
   "source": [
    "\"Lambdas can be assigned as normal variables\"\n",
    "\n",
    "variable=lambda x:x*2\n",
    "print(variable(7))"
   ]
  },
  {
   "cell_type": "code",
   "execution_count": 3,
   "id": "7827fe95",
   "metadata": {},
   "outputs": [
    {
     "name": "stdout",
     "output_type": "stream",
     "text": [
      "Love in all types is in the air\n",
      "['Love', 'in', 'all', 'types', 'is', 'in', 'the', 'air']\n"
     ]
    }
   ],
   "source": [
    "txt=input()\n",
    "def words(text):\n",
    "    text=str(text)\n",
    "    return text.split(\" \")\n",
    "print(list(words(txt)))"
   ]
  },
  {
   "cell_type": "code",
   "execution_count": 4,
   "id": "2ba69972",
   "metadata": {},
   "outputs": [
    {
     "name": "stdout",
     "output_type": "stream",
     "text": [
      "Love in all types is in the air\n",
      "['Love', 'in', 'all', 'types', 'is', 'in', 'the', 'air']\n"
     ]
    }
   ],
   "source": [
    "txt=input()\n",
    "def words(text):\n",
    "    for word in text.split(\" \"):\n",
    "        yield word\n",
    "print(list(words(txt)))"
   ]
  },
  {
   "cell_type": "code",
   "execution_count": 5,
   "id": "7642b8e2",
   "metadata": {
    "scrolled": true
   },
   "outputs": [
    {
     "name": "stdout",
     "output_type": "stream",
     "text": [
      "Love in all types is in the air\n"
     ]
    },
    {
     "data": {
      "text/plain": [
       "['Love', 'in', 'all', 'types', 'is', 'in', 'the', 'air']"
      ]
     },
     "execution_count": 5,
     "metadata": {},
     "output_type": "execute_result"
    }
   ],
   "source": [
    "(lambda x:x.split(\" \"))(input())"
   ]
  },
  {
   "cell_type": "code",
   "execution_count": null,
   "id": "1949ddcf",
   "metadata": {},
   "outputs": [],
   "source": []
  }
 ],
 "metadata": {
  "kernelspec": {
   "display_name": "Python 3 (ipykernel)",
   "language": "python",
   "name": "python3"
  },
  "language_info": {
   "codemirror_mode": {
    "name": "ipython",
    "version": 3
   },
   "file_extension": ".py",
   "mimetype": "text/x-python",
   "name": "python",
   "nbconvert_exporter": "python",
   "pygments_lexer": "ipython3",
   "version": "3.9.7"
  }
 },
 "nbformat": 4,
 "nbformat_minor": 5
}
