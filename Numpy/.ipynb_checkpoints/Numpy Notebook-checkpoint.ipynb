{
 "cells": [
  {
   "cell_type": "markdown",
   "id": "7993ec32",
   "metadata": {},
   "source": [
    "<h1> NUMPY </h1>"
   ]
  },
  {
   "cell_type": "code",
   "execution_count": 1,
   "id": "efbb389d",
   "metadata": {},
   "outputs": [
    {
     "data": {
      "text/plain": [
       "'Numpy deals with native array data structures while Python deals with lists'"
      ]
     },
     "execution_count": 1,
     "metadata": {},
     "output_type": "execute_result"
    }
   ],
   "source": [
    "\"Numpy deals with native array data structures while Python deals with lists\""
   ]
  },
  {
   "cell_type": "code",
   "execution_count": 2,
   "id": "9e593bd7",
   "metadata": {},
   "outputs": [],
   "source": [
    "import numpy as np"
   ]
  },
  {
   "cell_type": "markdown",
   "id": "09fa5a70",
   "metadata": {},
   "source": [
    "## Task 1: Creating nd array objects "
   ]
  },
  {
   "cell_type": "markdown",
   "id": "3e4e314e",
   "metadata": {},
   "source": [
    "### Using np.array() function"
   ]
  },
  {
   "cell_type": "markdown",
   "id": "276186d6",
   "metadata": {},
   "source": [
    "#### A. 1-Dimensional Array"
   ]
  },
  {
   "cell_type": "code",
   "execution_count": 9,
   "id": "651dbb61",
   "metadata": {},
   "outputs": [
    {
     "data": {
      "text/plain": [
       "array([1, 2, 3, 4])"
      ]
     },
     "execution_count": 9,
     "metadata": {},
     "output_type": "execute_result"
    }
   ],
   "source": [
    "a=np.array([1,2,3,4])\n",
    "a"
   ]
  },
  {
   "cell_type": "markdown",
   "id": "71a8ea5e",
   "metadata": {},
   "source": [
    "#### B. 2-Dimensional Array"
   ]
  },
  {
   "cell_type": "code",
   "execution_count": 5,
   "id": "a1461276",
   "metadata": {
    "scrolled": true
   },
   "outputs": [
    {
     "data": {
      "text/plain": [
       "array([[1, 2, 3, 4],\n",
       "       [5, 6, 7, 8]])"
      ]
     },
     "execution_count": 5,
     "metadata": {},
     "output_type": "execute_result"
    }
   ],
   "source": [
    "b=np.array([[1,2,3,4],[5,6,7,8]])\n",
    "b"
   ]
  },
  {
   "cell_type": "markdown",
   "id": "6cad4eda",
   "metadata": {},
   "source": [
    "### Using Numpy Functions"
   ]
  },
  {
   "cell_type": "markdown",
   "id": "d38c49c6",
   "metadata": {},
   "source": [
    "#### A. Using Zeros function"
   ]
  },
  {
   "cell_type": "code",
   "execution_count": 20,
   "id": "c7106e1b",
   "metadata": {
    "scrolled": true
   },
   "outputs": [
    {
     "data": {
      "text/plain": [
       "array([[0., 0.],\n",
       "       [0., 0.],\n",
       "       [0., 0.]])"
      ]
     },
     "execution_count": 20,
     "metadata": {},
     "output_type": "execute_result"
    }
   ],
   "source": [
    "c=np.zeros((3,2)) # Create a 3x2 array  filled with zeros\n",
    "c"
   ]
  },
  {
   "cell_type": "code",
   "execution_count": 22,
   "id": "bed7692d",
   "metadata": {
    "scrolled": true
   },
   "outputs": [
    {
     "data": {
      "text/plain": [
       "array([[0., 0., 0., 0.],\n",
       "       [0., 0., 0., 0.],\n",
       "       [0., 0., 0., 0.]])"
      ]
     },
     "execution_count": 22,
     "metadata": {},
     "output_type": "execute_result"
    }
   ],
   "source": [
    "d=np.zeros((3,4))  # Create a 3x4 array  filled with zeros\n",
    "d"
   ]
  },
  {
   "cell_type": "markdown",
   "id": "5cedeedb",
   "metadata": {},
   "source": [
    "#### B. Using random function"
   ]
  },
  {
   "cell_type": "code",
   "execution_count": 25,
   "id": "74c398fc",
   "metadata": {},
   "outputs": [
    {
     "data": {
      "text/plain": [
       "array([0.51822264, 0.4383894 , 0.79160708])"
      ]
     },
     "execution_count": 25,
     "metadata": {},
     "output_type": "execute_result"
    }
   ],
   "source": [
    "e=np.random.random(3)\n",
    "e"
   ]
  },
  {
   "cell_type": "markdown",
   "id": "d9333a60",
   "metadata": {},
   "source": [
    "#### C. Using full() function"
   ]
  },
  {
   "cell_type": "code",
   "execution_count": 27,
   "id": "fd01bfa0",
   "metadata": {},
   "outputs": [
    {
     "data": {
      "text/plain": [
       "array([[12, 12],\n",
       "       [12, 12]])"
      ]
     },
     "execution_count": 27,
     "metadata": {},
     "output_type": "execute_result"
    }
   ],
   "source": [
    "f=np.full((2,2),12) # Create 2x2 array with constant values of 12\n",
    "f"
   ]
  },
  {
   "cell_type": "code",
   "execution_count": 29,
   "id": "3dc5641a",
   "metadata": {},
   "outputs": [
    {
     "data": {
      "text/plain": [
       "array([[12., 12.],\n",
       "       [12., 12.]], dtype=float32)"
      ]
     },
     "execution_count": 29,
     "metadata": {},
     "output_type": "execute_result"
    }
   ],
   "source": [
    "g=np.full((2,2),12,dtype=np.float32) # Create 2x2 array with constant values of 12\n",
    "g"
   ]
  },
  {
   "cell_type": "markdown",
   "id": "fee19a99",
   "metadata": {},
   "source": [
    "## Task 2: Creating a sequence"
   ]
  },
  {
   "cell_type": "code",
   "execution_count": null,
   "id": "52926a00",
   "metadata": {},
   "outputs": [],
   "source": [
    "\"The most common functions are np.arrange() and n.linspace function\""
   ]
  },
  {
   "cell_type": "markdown",
   "id": "abb79421",
   "metadata": {},
   "source": [
    "#### Method 1: Using np.arange()"
   ]
  },
  {
   "cell_type": "code",
   "execution_count": null,
   "id": "b72821c8",
   "metadata": {},
   "outputs": [],
   "source": [
    "\"The np.arrange syntax: np.arrange(start,end,step)\""
   ]
  },
  {
   "cell_type": "markdown",
   "id": "4b5cc101",
   "metadata": {},
   "source": [
    "### A. Using start,end,step"
   ]
  },
  {
   "cell_type": "code",
   "execution_count": 31,
   "id": "bb9e3e8f",
   "metadata": {},
   "outputs": [
    {
     "data": {
      "text/plain": [
       "array([0, 2, 4, 6, 8])"
      ]
     },
     "execution_count": 31,
     "metadata": {},
     "output_type": "execute_result"
    }
   ],
   "source": [
    "h=np.arange(0,10,2)\n",
    "h"
   ]
  },
  {
   "cell_type": "markdown",
   "id": "1e3ac051",
   "metadata": {},
   "source": [
    "### B. Using end only"
   ]
  },
  {
   "cell_type": "code",
   "execution_count": 33,
   "id": "9a3d40f6",
   "metadata": {},
   "outputs": [
    {
     "data": {
      "text/plain": [
       "array([0, 1, 2, 3, 4, 5, 6, 7, 8, 9])"
      ]
     },
     "execution_count": 33,
     "metadata": {},
     "output_type": "execute_result"
    }
   ],
   "source": [
    "i=np.arange(10)\n",
    "i"
   ]
  },
  {
   "cell_type": "markdown",
   "id": "9dc30734",
   "metadata": {},
   "source": [
    "#### Method 2: Using np.linspace()"
   ]
  },
  {
   "cell_type": "code",
   "execution_count": null,
   "id": "af547d31",
   "metadata": {},
   "outputs": [],
   "source": [
    "\"The np.linspace syntax: np.linspace(start,end,num_values)\""
   ]
  },
  {
   "cell_type": "code",
   "execution_count": 38,
   "id": "5b3dabbf",
   "metadata": {},
   "outputs": [
    {
     "data": {
      "text/plain": [
       "array([0.        , 1.16666667, 2.33333333, 3.5       , 4.66666667,\n",
       "       5.83333333, 7.        ])"
      ]
     },
     "execution_count": 38,
     "metadata": {},
     "output_type": "execute_result"
    }
   ],
   "source": [
    "np.linspace(0,7,7)"
   ]
  },
  {
   "cell_type": "markdown",
   "id": "324167f1",
   "metadata": {},
   "source": [
    "## Task 3: Accessing Elements"
   ]
  },
  {
   "cell_type": "code",
   "execution_count": 6,
   "id": "6fdde688",
   "metadata": {},
   "outputs": [
    {
     "data": {
      "text/plain": [
       "7"
      ]
     },
     "execution_count": 6,
     "metadata": {},
     "output_type": "execute_result"
    }
   ],
   "source": [
    "b[1,2] # Second row and Third column of Array 'b'"
   ]
  },
  {
   "cell_type": "markdown",
   "id": "512a6424",
   "metadata": {},
   "source": [
    "## Task 4: Array Parameters"
   ]
  },
  {
   "cell_type": "markdown",
   "id": "1872d1bc",
   "metadata": {},
   "source": [
    "### A. Dimensions of Array"
   ]
  },
  {
   "cell_type": "code",
   "execution_count": 14,
   "id": "6eb14d5c",
   "metadata": {},
   "outputs": [
    {
     "data": {
      "text/plain": [
       "'Displays the dimensions of array e.g., 1-Dimensional, 2-Dimensional Array'"
      ]
     },
     "execution_count": 14,
     "metadata": {},
     "output_type": "execute_result"
    }
   ],
   "source": [
    "\"Displays the dimensions of array e.g., 1-Dimensional, 2-Dimensional Array\""
   ]
  },
  {
   "cell_type": "code",
   "execution_count": 10,
   "id": "f9fd224e",
   "metadata": {},
   "outputs": [
    {
     "data": {
      "text/plain": [
       "1"
      ]
     },
     "execution_count": 10,
     "metadata": {},
     "output_type": "execute_result"
    }
   ],
   "source": [
    "a.ndim"
   ]
  },
  {
   "cell_type": "code",
   "execution_count": 11,
   "id": "2251f52d",
   "metadata": {},
   "outputs": [
    {
     "data": {
      "text/plain": [
       "2"
      ]
     },
     "execution_count": 11,
     "metadata": {},
     "output_type": "execute_result"
    }
   ],
   "source": [
    "b.ndim"
   ]
  },
  {
   "cell_type": "markdown",
   "id": "fa9ae287",
   "metadata": {},
   "source": [
    "### B. Number of Elements"
   ]
  },
  {
   "cell_type": "code",
   "execution_count": 15,
   "id": "1cb757d9",
   "metadata": {},
   "outputs": [
    {
     "data": {
      "text/plain": [
       "'Returns the total number of elements in the given array'"
      ]
     },
     "execution_count": 15,
     "metadata": {},
     "output_type": "execute_result"
    }
   ],
   "source": [
    "\"Returns the total number of elements in the given array\""
   ]
  },
  {
   "cell_type": "code",
   "execution_count": 12,
   "id": "3300d575",
   "metadata": {},
   "outputs": [
    {
     "data": {
      "text/plain": [
       "4"
      ]
     },
     "execution_count": 12,
     "metadata": {},
     "output_type": "execute_result"
    }
   ],
   "source": [
    "a.size"
   ]
  },
  {
   "cell_type": "code",
   "execution_count": 13,
   "id": "1c4fd006",
   "metadata": {},
   "outputs": [
    {
     "data": {
      "text/plain": [
       "8"
      ]
     },
     "execution_count": 13,
     "metadata": {},
     "output_type": "execute_result"
    }
   ],
   "source": [
    "b.size"
   ]
  },
  {
   "cell_type": "markdown",
   "id": "5e822d73",
   "metadata": {},
   "source": [
    "### C. Type of Array"
   ]
  },
  {
   "cell_type": "code",
   "execution_count": null,
   "id": "97d98c81",
   "metadata": {},
   "outputs": [],
   "source": [
    "\"Returns the element type of the Array\""
   ]
  },
  {
   "cell_type": "code",
   "execution_count": 16,
   "id": "304eb539",
   "metadata": {},
   "outputs": [
    {
     "data": {
      "text/plain": [
       "numpy.ndarray"
      ]
     },
     "execution_count": 16,
     "metadata": {},
     "output_type": "execute_result"
    }
   ],
   "source": [
    "type(a)"
   ]
  },
  {
   "cell_type": "code",
   "execution_count": 17,
   "id": "7c07dc16",
   "metadata": {},
   "outputs": [
    {
     "data": {
      "text/plain": [
       "numpy.ndarray"
      ]
     },
     "execution_count": 17,
     "metadata": {},
     "output_type": "execute_result"
    }
   ],
   "source": [
    "type(b)"
   ]
  }
 ],
 "metadata": {
  "kernelspec": {
   "display_name": "Python 3 (ipykernel)",
   "language": "python",
   "name": "python3"
  },
  "language_info": {
   "codemirror_mode": {
    "name": "ipython",
    "version": 3
   },
   "file_extension": ".py",
   "mimetype": "text/x-python",
   "name": "python",
   "nbconvert_exporter": "python",
   "pygments_lexer": "ipython3",
   "version": "3.9.7"
  }
 },
 "nbformat": 4,
 "nbformat_minor": 5
}
