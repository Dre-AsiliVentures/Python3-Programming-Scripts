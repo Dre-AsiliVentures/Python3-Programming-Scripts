{
 "cells": [
  {
   "cell_type": "markdown",
   "id": "ef01382d",
   "metadata": {},
   "source": [
    "<h1> NUMPY </h1>"
   ]
  },
  {
   "cell_type": "code",
   "execution_count": 1,
   "id": "31d2f38f",
   "metadata": {},
   "outputs": [
    {
     "data": {
      "text/plain": [
       "'Numpy deals with native array data structures while Python deals with lists'"
      ]
     },
     "execution_count": 1,
     "metadata": {},
     "output_type": "execute_result"
    }
   ],
   "source": [
    "\"Numpy deals with native array data structures while Python deals with lists\""
   ]
  },
  {
   "cell_type": "code",
   "execution_count": 2,
   "id": "f43b3ff3",
   "metadata": {},
   "outputs": [],
   "source": [
    "import numpy as np"
   ]
  },
  {
   "cell_type": "markdown",
   "id": "73774d7e",
   "metadata": {},
   "source": [
    "## Task 1: Creating nd array objects "
   ]
  },
  {
   "cell_type": "markdown",
   "id": "1f6acb43",
   "metadata": {},
   "source": [
    "### Using np.array() function"
   ]
  },
  {
   "cell_type": "markdown",
   "id": "858f9dbd",
   "metadata": {},
   "source": [
    "#### A. 1-Dimensional Array"
   ]
  },
  {
   "cell_type": "code",
   "execution_count": 9,
   "id": "5a5327ad",
   "metadata": {},
   "outputs": [
    {
     "data": {
      "text/plain": [
       "array([1, 2, 3, 4])"
      ]
     },
     "execution_count": 9,
     "metadata": {},
     "output_type": "execute_result"
    }
   ],
   "source": [
    "a=np.array([1,2,3,4])\n",
    "a"
   ]
  },
  {
   "cell_type": "markdown",
   "id": "5add3d16",
   "metadata": {},
   "source": [
    "#### B. 2-Dimensional Array"
   ]
  },
  {
   "cell_type": "code",
   "execution_count": 5,
   "id": "28facce8",
   "metadata": {
    "scrolled": true
   },
   "outputs": [
    {
     "data": {
      "text/plain": [
       "array([[1, 2, 3, 4],\n",
       "       [5, 6, 7, 8]])"
      ]
     },
     "execution_count": 5,
     "metadata": {},
     "output_type": "execute_result"
    }
   ],
   "source": [
    "b=np.array([[1,2,3,4],[5,6,7,8]])\n",
    "b"
   ]
  },
  {
   "cell_type": "markdown",
   "id": "96ae9250",
   "metadata": {},
   "source": [
    "### Using Numpy Functions"
   ]
  },
  {
   "cell_type": "markdown",
   "id": "8a960d98",
   "metadata": {},
   "source": [
    "#### A. Using Zeros function"
   ]
  },
  {
   "cell_type": "code",
   "execution_count": 20,
   "id": "0e167575",
   "metadata": {
    "scrolled": true
   },
   "outputs": [
    {
     "data": {
      "text/plain": [
       "array([[0., 0.],\n",
       "       [0., 0.],\n",
       "       [0., 0.]])"
      ]
     },
     "execution_count": 20,
     "metadata": {},
     "output_type": "execute_result"
    }
   ],
   "source": [
    "c=np.zeros((3,2)) # Create a 3x2 array  filled with zeros\n",
    "c"
   ]
  },
  {
   "cell_type": "code",
   "execution_count": 22,
   "id": "aeaecf58",
   "metadata": {
    "scrolled": true
   },
   "outputs": [
    {
     "data": {
      "text/plain": [
       "array([[0., 0., 0., 0.],\n",
       "       [0., 0., 0., 0.],\n",
       "       [0., 0., 0., 0.]])"
      ]
     },
     "execution_count": 22,
     "metadata": {},
     "output_type": "execute_result"
    }
   ],
   "source": [
    "d=np.zeros((3,4))  # Create a 3x4 array  filled with zeros\n",
    "d"
   ]
  },
  {
   "cell_type": "markdown",
   "id": "56e8d185",
   "metadata": {},
   "source": [
    "#### B. Using random function"
   ]
  },
  {
   "cell_type": "code",
   "execution_count": 25,
   "id": "72e76a4a",
   "metadata": {},
   "outputs": [
    {
     "data": {
      "text/plain": [
       "array([0.51822264, 0.4383894 , 0.79160708])"
      ]
     },
     "execution_count": 25,
     "metadata": {},
     "output_type": "execute_result"
    }
   ],
   "source": [
    "e=np.random.random(3)\n",
    "e"
   ]
  },
  {
   "cell_type": "markdown",
   "id": "e614bf33",
   "metadata": {},
   "source": [
    "#### C. Using full() function"
   ]
  },
  {
   "cell_type": "code",
   "execution_count": 27,
   "id": "fa99e690",
   "metadata": {},
   "outputs": [
    {
     "data": {
      "text/plain": [
       "array([[12, 12],\n",
       "       [12, 12]])"
      ]
     },
     "execution_count": 27,
     "metadata": {},
     "output_type": "execute_result"
    }
   ],
   "source": [
    "f=np.full((2,2),12) # Create 2x2 array with constant values of 12\n",
    "f"
   ]
  },
  {
   "cell_type": "code",
   "execution_count": 29,
   "id": "d8f7c958",
   "metadata": {},
   "outputs": [
    {
     "data": {
      "text/plain": [
       "array([[12., 12.],\n",
       "       [12., 12.]], dtype=float32)"
      ]
     },
     "execution_count": 29,
     "metadata": {},
     "output_type": "execute_result"
    }
   ],
   "source": [
    "g=np.full((2,2),12,dtype=np.float32) # Create 2x2 array with constant values of 12\n",
    "g"
   ]
  },
  {
   "cell_type": "markdown",
   "id": "54e2630a",
   "metadata": {},
   "source": [
    "## Task 2: Creating a sequence"
   ]
  },
  {
   "cell_type": "code",
   "execution_count": null,
   "id": "afa1add9",
   "metadata": {},
   "outputs": [],
   "source": [
    "\"The most common functions are np.arrange() and n.linspace function\""
   ]
  },
  {
   "cell_type": "markdown",
   "id": "8c730efc",
   "metadata": {},
   "source": [
    "#### Method 1: Using np.arange()"
   ]
  },
  {
   "cell_type": "code",
   "execution_count": null,
   "id": "b65577df",
   "metadata": {},
   "outputs": [],
   "source": [
    "\"The np.arrange syntax: np.arrange(start,end,step)\""
   ]
  },
  {
   "cell_type": "markdown",
   "id": "279c38cf",
   "metadata": {},
   "source": [
    "### A. Using start,end,step"
   ]
  },
  {
   "cell_type": "code",
   "execution_count": 31,
   "id": "15ce2d19",
   "metadata": {},
   "outputs": [
    {
     "data": {
      "text/plain": [
       "array([0, 2, 4, 6, 8])"
      ]
     },
     "execution_count": 31,
     "metadata": {},
     "output_type": "execute_result"
    }
   ],
   "source": [
    "h=np.arange(0,10,2)\n",
    "h"
   ]
  },
  {
   "cell_type": "markdown",
   "id": "8e4fec8e",
   "metadata": {},
   "source": [
    "### B. Using end only"
   ]
  },
  {
   "cell_type": "code",
   "execution_count": 33,
   "id": "717905eb",
   "metadata": {},
   "outputs": [
    {
     "data": {
      "text/plain": [
       "array([0, 1, 2, 3, 4, 5, 6, 7, 8, 9])"
      ]
     },
     "execution_count": 33,
     "metadata": {},
     "output_type": "execute_result"
    }
   ],
   "source": [
    "i=np.arange(10)\n",
    "i"
   ]
  },
  {
   "cell_type": "markdown",
   "id": "9991b8e6",
   "metadata": {},
   "source": [
    "#### Method 2: Using np.linspace()"
   ]
  },
  {
   "cell_type": "code",
   "execution_count": null,
   "id": "a43202e9",
   "metadata": {},
   "outputs": [],
   "source": [
    "\"The np.linspace syntax: np.linspace(start,end,num_values)\""
   ]
  },
  {
   "cell_type": "code",
   "execution_count": 38,
   "id": "d267d162",
   "metadata": {},
   "outputs": [
    {
     "data": {
      "text/plain": [
       "array([0.        , 1.16666667, 2.33333333, 3.5       , 4.66666667,\n",
       "       5.83333333, 7.        ])"
      ]
     },
     "execution_count": 38,
     "metadata": {},
     "output_type": "execute_result"
    }
   ],
   "source": [
    "np.linspace(0,7,7)"
   ]
  },
  {
   "cell_type": "markdown",
   "id": "a7ff708b",
   "metadata": {},
   "source": [
    "## Task 3: Accessing Elements"
   ]
  },
  {
   "cell_type": "code",
   "execution_count": 6,
   "id": "d7bb39c9",
   "metadata": {},
   "outputs": [
    {
     "data": {
      "text/plain": [
       "7"
      ]
     },
     "execution_count": 6,
     "metadata": {},
     "output_type": "execute_result"
    }
   ],
   "source": [
    "b[1,2] # Second row and Third column of Array 'b'"
   ]
  },
  {
   "cell_type": "markdown",
   "id": "fae6ab01",
   "metadata": {},
   "source": [
    "## Task 4: Array Parameters"
   ]
  },
  {
   "cell_type": "markdown",
   "id": "75abd438",
   "metadata": {},
   "source": [
    "### A. Dimensions of Array"
   ]
  },
  {
   "cell_type": "code",
   "execution_count": 14,
   "id": "d62167fd",
   "metadata": {},
   "outputs": [
    {
     "data": {
      "text/plain": [
       "'Displays the dimensions of array e.g., 1-Dimensional, 2-Dimensional Array'"
      ]
     },
     "execution_count": 14,
     "metadata": {},
     "output_type": "execute_result"
    }
   ],
   "source": [
    "\"Displays the dimensions of array e.g., 1-Dimensional, 2-Dimensional Array\""
   ]
  },
  {
   "cell_type": "code",
   "execution_count": 10,
   "id": "cb15237d",
   "metadata": {},
   "outputs": [
    {
     "data": {
      "text/plain": [
       "1"
      ]
     },
     "execution_count": 10,
     "metadata": {},
     "output_type": "execute_result"
    }
   ],
   "source": [
    "a.ndim"
   ]
  },
  {
   "cell_type": "code",
   "execution_count": 11,
   "id": "a5c7370b",
   "metadata": {},
   "outputs": [
    {
     "data": {
      "text/plain": [
       "2"
      ]
     },
     "execution_count": 11,
     "metadata": {},
     "output_type": "execute_result"
    }
   ],
   "source": [
    "b.ndim"
   ]
  },
  {
   "cell_type": "markdown",
   "id": "83b51d6d",
   "metadata": {},
   "source": [
    "### B. Number of Elements"
   ]
  },
  {
   "cell_type": "code",
   "execution_count": 15,
   "id": "f31a34c5",
   "metadata": {},
   "outputs": [
    {
     "data": {
      "text/plain": [
       "'Returns the total number of elements in the given array'"
      ]
     },
     "execution_count": 15,
     "metadata": {},
     "output_type": "execute_result"
    }
   ],
   "source": [
    "\"Returns the total number of elements in the given array\""
   ]
  },
  {
   "cell_type": "code",
   "execution_count": 12,
   "id": "688d130c",
   "metadata": {},
   "outputs": [
    {
     "data": {
      "text/plain": [
       "4"
      ]
     },
     "execution_count": 12,
     "metadata": {},
     "output_type": "execute_result"
    }
   ],
   "source": [
    "a.size"
   ]
  },
  {
   "cell_type": "code",
   "execution_count": 13,
   "id": "2d324cdf",
   "metadata": {},
   "outputs": [
    {
     "data": {
      "text/plain": [
       "8"
      ]
     },
     "execution_count": 13,
     "metadata": {},
     "output_type": "execute_result"
    }
   ],
   "source": [
    "b.size"
   ]
  },
  {
   "cell_type": "markdown",
   "id": "2764cb03",
   "metadata": {},
   "source": [
    "### C. Type of Array"
   ]
  },
  {
   "cell_type": "code",
   "execution_count": null,
   "id": "3c6c2f10",
   "metadata": {},
   "outputs": [],
   "source": [
    "\"Returns the element type of the Array\""
   ]
  },
  {
   "cell_type": "code",
   "execution_count": 16,
   "id": "dbce9ede",
   "metadata": {},
   "outputs": [
    {
     "data": {
      "text/plain": [
       "numpy.ndarray"
      ]
     },
     "execution_count": 16,
     "metadata": {},
     "output_type": "execute_result"
    }
   ],
   "source": [
    "type(a)"
   ]
  },
  {
   "cell_type": "code",
   "execution_count": 17,
   "id": "4ad027f2",
   "metadata": {},
   "outputs": [
    {
     "data": {
      "text/plain": [
       "numpy.ndarray"
      ]
     },
     "execution_count": 17,
     "metadata": {},
     "output_type": "execute_result"
    }
   ],
   "source": [
    "type(b)"
   ]
  },
  {
   "cell_type": "markdown",
   "id": "75370c99",
   "metadata": {},
   "source": [
    "### D. Shape of Array"
   ]
  },
  {
   "cell_type": "code",
   "execution_count": 39,
   "id": "79ba8765",
   "metadata": {},
   "outputs": [
    {
     "data": {
      "text/plain": [
       "(10,)"
      ]
     },
     "execution_count": 39,
     "metadata": {},
     "output_type": "execute_result"
    }
   ],
   "source": [
    "arange_arr=np.arange(10)\n",
    "arange_arr.shape"
   ]
  },
  {
   "cell_type": "code",
   "execution_count": 46,
   "id": "3232220e",
   "metadata": {},
   "outputs": [
    {
     "data": {
      "text/plain": [
       "False"
      ]
     },
     "execution_count": 46,
     "metadata": {},
     "output_type": "execute_result"
    }
   ],
   "source": [
    "arange_arr.shape[0]>100"
   ]
  },
  {
   "cell_type": "code",
   "execution_count": null,
   "id": "c5577340",
   "metadata": {},
   "outputs": [],
   "source": []
  }
 ],
 "metadata": {
  "kernelspec": {
   "display_name": "Python 3 (ipykernel)",
   "language": "python",
   "name": "python3"
  },
  "language_info": {
   "codemirror_mode": {
    "name": "ipython",
    "version": 3
   },
   "file_extension": ".py",
   "mimetype": "text/x-python",
   "name": "python",
   "nbconvert_exporter": "python",
   "pygments_lexer": "ipython3",
   "version": "3.9.7"
  }
 },
 "nbformat": 4,
 "nbformat_minor": 5
}
