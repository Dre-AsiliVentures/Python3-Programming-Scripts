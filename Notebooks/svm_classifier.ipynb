{
 "cells": [
  {
   "cell_type": "code",
   "execution_count": 1,
   "metadata": {},
   "outputs": [],
   "source": [
    "from matplotlib import pyplot as plt\n",
    "import pandas as pd\n",
    "from sklearn.metrics import accuracy_score\n",
    "from sklearn.model_selection import train_test_split\n",
    "from sklearn.svm import SVC # Import SVC -Support vector classifier\""
   ]
  },
  {
   "cell_type": "code",
   "execution_count": 2,
   "metadata": {},
   "outputs": [],
   "source": [
    "model_types=['linear','poly','rbf','sigmoid']\n",
    "model_type='linear'"
   ]
  },
  {
   "cell_type": "code",
   "execution_count": 4,
   "metadata": {},
   "outputs": [
    {
     "name": "stdout",
     "output_type": "stream",
     "text": [
      "Data retrieved\n",
      "Training and Test data updated successfully\n",
      "Calculating accuracy for Linear ML model\n"
     ]
    }
   ],
   "source": [
    "import pandas as pd\n",
    "data = pd.read_csv('W:\\IoT Remote Consultant\\Website\\Business\\Trading\\ML\\DataFullTest.csv')\n",
    "data=data[:100]\n",
    "print(\"Data retrieved\")\n",
    "x=data.Volume.values.round(0).reshape(-1,1)\n",
    "y=data.Close.values.round(0).reshape(-1,1)\n",
    "random_variable=42\n",
    "x_train,x_test,y_train,y_test=train_test_split(x,y,test_size=0.3,random_state=random_variable)\n",
    "print(\"Training and Test data updated successfully\")\n",
    "print(f\"Calculating accuracy for {model_type.capitalize()} ML model\")\n"
   ]
  },
  {
   "cell_type": "code",
   "execution_count": 5,
   "metadata": {},
   "outputs": [
    {
     "name": "stderr",
     "output_type": "stream",
     "text": [
      "c:\\Users\\GreHiDel\\anaconda3\\lib\\site-packages\\sklearn\\utils\\validation.py:63: DataConversionWarning: A column-vector y was passed when a 1d array was expected. Please change the shape of y to (n_samples, ), for example using ravel().\n",
      "  return f(*args, **kwargs)\n"
     ]
    }
   ],
   "source": [
    "support_vector=SVC(kernel=model_type)\n",
    "svm_model=support_vector.fit(x_train,y_train)\n",
    "y_prediction=svm_model.predict(y_test)\n"
   ]
  },
  {
   "cell_type": "code",
   "execution_count": 6,
   "metadata": {},
   "outputs": [
    {
     "data": {
      "text/plain": [
       "array([[  617.],\n",
       "       [ 1092.],\n",
       "       [ 2111.],\n",
       "       [29023.],\n",
       "       [ 1783.],\n",
       "       [ 4462.],\n",
       "       [ 1207.],\n",
       "       [ 2309.],\n",
       "       [ 5166.],\n",
       "       [ 7169.],\n",
       "       [ 2122.],\n",
       "       [ 1915.],\n",
       "       [ 3669.],\n",
       "       [ 2467.],\n",
       "       [ 6059.],\n",
       "       [ 1536.],\n",
       "       [ 1063.],\n",
       "       [ 2261.],\n",
       "       [ 1431.],\n",
       "       [ 2542.],\n",
       "       [ 2000.],\n",
       "       [ 1523.],\n",
       "       [ 2292.],\n",
       "       [ 3679.],\n",
       "       [27500.],\n",
       "       [  901.],\n",
       "       [ 2470.],\n",
       "       [ 8372.],\n",
       "       [ 2270.],\n",
       "       [  647.],\n",
       "       [ 3177.],\n",
       "       [ 2983.],\n",
       "       [ 2665.],\n",
       "       [ 2486.],\n",
       "       [ 2454.],\n",
       "       [ 8414.],\n",
       "       [ 3809.],\n",
       "       [ 2219.],\n",
       "       [ 5031.],\n",
       "       [ 4867.],\n",
       "       [ 3420.],\n",
       "       [ 2832.],\n",
       "       [ 1507.],\n",
       "       [ 3525.],\n",
       "       [ 5075.],\n",
       "       [ 1736.],\n",
       "       [ 1767.],\n",
       "       [ 2023.],\n",
       "       [ 2756.],\n",
       "       [ 2450.],\n",
       "       [ 1523.],\n",
       "       [ 2806.],\n",
       "       [ 2081.],\n",
       "       [ 5164.],\n",
       "       [ 3338.],\n",
       "       [ 7449.],\n",
       "       [ 1746.],\n",
       "       [ 1712.],\n",
       "       [ 2303.],\n",
       "       [ 2331.],\n",
       "       [ 2065.],\n",
       "       [ 2929.],\n",
       "       [ 3862.],\n",
       "       [ 6696.],\n",
       "       [ 3565.],\n",
       "       [ 1939.],\n",
       "       [ 4280.],\n",
       "       [ 7167.],\n",
       "       [11580.],\n",
       "       [ 5141.]])"
      ]
     },
     "execution_count": 6,
     "metadata": {},
     "output_type": "execute_result"
    }
   ],
   "source": [
    "svm_model.support_vectors_"
   ]
  },
  {
   "cell_type": "code",
   "execution_count": 7,
   "metadata": {},
   "outputs": [
    {
     "name": "stdout",
     "output_type": "stream",
     "text": [
      "The Linear SVM ML Model Accuracy is 3.3333333333333335\n"
     ]
    }
   ],
   "source": [
    "\n",
    "accuracy=accuracy_score(y_test,y_prediction)*100\n",
    "print(f\"The {model_type.capitalize()} SVM ML Model Accuracy is {accuracy}\")"
   ]
  },
  {
   "cell_type": "code",
   "execution_count": 8,
   "metadata": {},
   "outputs": [
    {
     "data": {
      "image/png": "[encoded data removed]",
      "text/plain": [
       "<Figure size 432x288 with 1 Axes>"
      ]
     },
     "metadata": {
      "needs_background": "light"
     },
     "output_type": "display_data"
    }
   ],
   "source": [
    "plt.scatter(x_test, y_test, c=y_test, cmap='viridis', label='Actual Data')\n",
    "plt.scatter(x_test, y_prediction, c=y_prediction, marker='x', cmap='viridis', label='Predicted Data')\n",
    "plt.xlabel('Volume')\n",
    "plt.ylabel('Close')\n",
    "plt.legend()\n",
    "plt.savefig(\"SVC ML Algorithm in Market Price Forecast.png\")\n",
    "plt.show()"
   ]
  }
 ],
 "metadata": {
  "kernelspec": {
   "display_name": "Python 3 (ipykernel)",
   "language": "python",
   "name": "python3"
  },
  "language_info": {
   "codemirror_mode": {
    "name": "ipython",
    "version": 3
   },
   "file_extension": ".py",
   "mimetype": "text/x-python",
   "name": "python",
   "nbconvert_exporter": "python",
   "pygments_lexer": "ipython3",
   "version": "3.9.7"
  }
 },
 "nbformat": 4,
 "nbformat_minor": 2
}
